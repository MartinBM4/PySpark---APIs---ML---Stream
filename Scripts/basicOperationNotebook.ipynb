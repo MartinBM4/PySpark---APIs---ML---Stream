{
 "cells": [
  {
   "cell_type": "markdown",
   "metadata": {},
   "source": [
    "# Basic Operations with DATA FRAME"
   ]
  },
  {
   "cell_type": "markdown",
   "metadata": {},
   "source": [
    "## Primeros comando e iniciación"
   ]
  },
  {
   "cell_type": "markdown",
   "metadata": {},
   "source": [
    "Primero, se importa desde pyspark.sql tanto el constructor como algunas funciones propias de la libreria."
   ]
  },
  {
   "cell_type": "code",
   "execution_count": 1,
   "metadata": {},
   "outputs": [],
   "source": [
    "from pyspark.sql import SparkSession, functions\n"
   ]
  },
  {
   "cell_type": "markdown",
   "metadata": {},
   "source": [
    "Se inicia el constructor de spark haciendo uso de 4 núcleos para la computación de los comandos."
   ]
  },
  {
   "cell_type": "code",
   "execution_count": 4,
   "metadata": {},
   "outputs": [],
   "source": [
    "spark_session = SparkSession \\\n",
    "        .builder \\\n",
    "        .master(\"local[4]\") \\\n",
    "        .getOrCreate()\n",
    "\n",
    "logger = spark_session._jvm.org.apache.log4j\n",
    "logger.LogManager.getLogger(\"org\").setLevel(logger.Level.WARN)\n"
   ]
  },
  {
   "cell_type": "markdown",
   "metadata": {},
   "source": [
    "Se carga el conjunto de datos en formato CSV en una variable llamada data_frame. El delimitador será la coma ( , ) y con el comando persist se quedará guardado memoria."
   ]
  },
  {
   "cell_type": "code",
   "execution_count": 7,
   "metadata": {},
   "outputs": [],
   "source": [
    "data_frame = spark_session \\\n",
    "        .read \\\n",
    "        .options(header='true', inferschema='true') \\\n",
    "        .option(\"delimiter\", \",\") \\\n",
    "        .csv(\"/home/master/Descargas/basicOperationData.csv\") \\\n",
    "        .persist()"
   ]
  },
  {
   "cell_type": "markdown",
   "metadata": {},
   "source": [
    "A continuación, se imprime los tipos de variables que contiene cada columna del data frame (con su titulo de columna) y se imprime el data frame completo."
   ]
  },
  {
   "cell_type": "code",
   "execution_count": 8,
   "metadata": {},
   "outputs": [
    {
     "name": "stdout",
     "output_type": "stream",
     "text": [
      "root\n",
      " |-- Name: string (nullable = true)\n",
      " |-- Age: integer (nullable = true)\n",
      " |-- Weight: double (nullable = true)\n",
      " |-- HasACar: boolean (nullable = true)\n",
      " |-- BirthDate: timestamp (nullable = true)\n",
      "\n",
      "+------+---+------+-------+-------------------+\n",
      "|  Name|Age|Weight|HasACar|          BirthDate|\n",
      "+------+---+------+-------+-------------------+\n",
      "|  Luis| 23|  84.5|   true|2019-03-01 00:00:00|\n",
      "|  Lola| 42|  70.2|  false|2000-10-01 00:00:00|\n",
      "|  Paco| 66|  90.1|  false|1905-12-03 00:00:00|\n",
      "|Manolo| 68|  75.3|   true|2000-01-04 00:00:00|\n",
      "+------+---+------+-------+-------------------+\n",
      "\n"
     ]
    }
   ],
   "source": [
    "data_frame.printSchema()\n",
    "data_frame.show()"
   ]
  },
  {
   "cell_type": "markdown",
   "metadata": {},
   "source": [
    "Otra forma de ver los tipos de variable de las columnas del data frame es la siguiente:"
   ]
  },
  {
   "cell_type": "code",
   "execution_count": 9,
   "metadata": {},
   "outputs": [
    {
     "name": "stdout",
     "output_type": "stream",
     "text": [
      "data types: [('Name', 'string'), ('Age', 'int'), ('Weight', 'double'), ('HasACar', 'boolean'), ('BirthDate', 'timestamp')]\n"
     ]
    }
   ],
   "source": [
    "print(\"data types: \" + str(data_frame.dtypes))"
   ]
  },
  {
   "cell_type": "markdown",
   "metadata": {},
   "source": [
    "Se puede hacer un pre-análisis mediante el comando describe. EL cual muestra la cantidad de filas de cada columna, la media (si la columna  es numérica), la desviación standard, el mínimo y el máximo de cada columna."
   ]
  },
  {
   "cell_type": "code",
   "execution_count": 11,
   "metadata": {},
   "outputs": [
    {
     "name": "stdout",
     "output_type": "stream",
     "text": [
      "+-------+----+------------------+-----------------+\n",
      "|summary|Name|               Age|           Weight|\n",
      "+-------+----+------------------+-----------------+\n",
      "|  count|   4|                 4|                4|\n",
      "|   mean|null|             49.75|80.02499999999999|\n",
      "| stddev|null|21.391197566600457|8.951489633947338|\n",
      "|    min|Lola|                23|             70.2|\n",
      "|    max|Paco|                68|             90.1|\n",
      "+-------+----+------------------+-----------------+\n",
      "\n"
     ]
    }
   ],
   "source": [
    "data_frame.describe().show()"
   ]
  },
  {
   "cell_type": "code",
   "execution_count": 12,
   "metadata": {},
   "outputs": [
    {
     "name": "stdout",
     "output_type": "stream",
     "text": [
      "== Physical Plan ==\n",
      "InMemoryTableScan [Name#10, Age#11, Weight#12, HasACar#13, BirthDate#14]\n",
      "   +- InMemoryRelation [Name#10, Age#11, Weight#12, HasACar#13, BirthDate#14], StorageLevel(disk, memory, 1 replicas)\n",
      "         +- *(1) FileScan csv [Name#10,Age#11,Weight#12,HasACar#13,BirthDate#14] Batched: false, Format: CSV, Location: InMemoryFileIndex[file:/home/master/Descargas/basicOperationData.csv], PartitionFilters: [], PushedFilters: [], ReadSchema: struct<Name:string,Age:int,Weight:double,HasACar:boolean,BirthDate:timestamp>\n"
     ]
    }
   ],
   "source": [
    "data_frame.explain()"
   ]
  },
  {
   "cell_type": "markdown",
   "metadata": {},
   "source": [
    "## Comandos para acceder a un data frame"
   ]
  },
  {
   "cell_type": "markdown",
   "metadata": {},
   "source": [
    "Para acceder/seleccionar toda las filas de la columna \"Name\":"
   ]
  },
  {
   "cell_type": "code",
   "execution_count": 13,
   "metadata": {},
   "outputs": [
    {
     "name": "stdout",
     "output_type": "stream",
     "text": [
      "+------+\n",
      "|  Name|\n",
      "+------+\n",
      "|  Luis|\n",
      "|  Lola|\n",
      "|  Paco|\n",
      "|Manolo|\n",
      "+------+\n",
      "\n"
     ]
    }
   ],
   "source": [
    "data_frame.select(\"Name\").show()"
   ]
  },
  {
   "cell_type": "markdown",
   "metadata": {},
   "source": [
    "Se selecciona todo de la columna \"Name\" y \"Age\", además de sumar 1 a la edad:"
   ]
  },
  {
   "cell_type": "code",
   "execution_count": 15,
   "metadata": {},
   "outputs": [
    {
     "name": "stdout",
     "output_type": "stream",
     "text": [
      "+------+---+\n",
      "|  Name|Age|\n",
      "+------+---+\n",
      "|  Luis| 23|\n",
      "|  Lola| 42|\n",
      "|  Paco| 66|\n",
      "|Manolo| 68|\n",
      "+------+---+\n",
      "\n",
      "+------+---------+\n",
      "|  Name|(Age + 1)|\n",
      "+------+---------+\n",
      "|  Luis|       24|\n",
      "|  Lola|       43|\n",
      "|  Paco|       67|\n",
      "|Manolo|       69|\n",
      "+------+---------+\n",
      "\n"
     ]
    }
   ],
   "source": [
    "data_frame.select(\"Name\", data_frame[\"Age\"]).show()\n",
    "data_frame.select(\"Name\", data_frame[\"Age\"] + 1).show()"
   ]
  },
  {
   "cell_type": "markdown",
   "metadata": {},
   "source": [
    "Para seleccionar aquellas filas que cumplan una condición. En este caso aquellas cuyo nombre tenga más de 4 letras:"
   ]
  },
  {
   "cell_type": "code",
   "execution_count": 17,
   "metadata": {},
   "outputs": [
    {
     "name": "stdout",
     "output_type": "stream",
     "text": [
      "+------+\n",
      "|  Name|\n",
      "+------+\n",
      "|  Luis|\n",
      "|  Lola|\n",
      "|  Paco|\n",
      "|Manolo|\n",
      "+------+\n",
      "\n",
      "+------------------+\n",
      "|(length(Name) > 4)|\n",
      "+------------------+\n",
      "|             false|\n",
      "|             false|\n",
      "|             false|\n",
      "|              true|\n",
      "+------------------+\n",
      "\n"
     ]
    }
   ],
   "source": [
    "data_frame.select(\"Name\").show()\n",
    "data_frame.select(functions.length(data_frame[\"Name\"]) > 4).show()"
   ]
  },
  {
   "cell_type": "markdown",
   "metadata": {},
   "source": [
    "Si se quiere escoger aquellos nombres que empiezan por la letra \"L\":"
   ]
  },
  {
   "cell_type": "code",
   "execution_count": 18,
   "metadata": {},
   "outputs": [
    {
     "name": "stdout",
     "output_type": "stream",
     "text": [
      "+------+-------------------+\n",
      "|  name|startswith(name, L)|\n",
      "+------+-------------------+\n",
      "|  Luis|               true|\n",
      "|  Lola|               true|\n",
      "|  Paco|              false|\n",
      "|Manolo|              false|\n",
      "+------+-------------------+\n",
      "\n"
     ]
    }
   ],
   "source": [
    "data_frame.select(\"name\", data_frame[\"name\"].startswith(\"L\")).show()"
   ]
  },
  {
   "cell_type": "markdown",
   "metadata": {},
   "source": [
    "## Comandos para manipulación y modificacion del data frame"
   ]
  },
  {
   "cell_type": "markdown",
   "metadata": {},
   "source": [
    "Para añadir una nueva columna al dataset llamada \"Senior\" pero que cumpla la condicion de que sea solamente aquellas personas cuya edad supere los 45 años:"
   ]
  },
  {
   "cell_type": "code",
   "execution_count": 19,
   "metadata": {},
   "outputs": [
    {
     "name": "stdout",
     "output_type": "stream",
     "text": [
      "+------+---+------+-------+-------------------+------+\n",
      "|  Name|Age|Weight|HasACar|          BirthDate|Senior|\n",
      "+------+---+------+-------+-------------------+------+\n",
      "|  Luis| 23|  84.5|   true|2019-03-01 00:00:00| false|\n",
      "|  Lola| 42|  70.2|  false|2000-10-01 00:00:00| false|\n",
      "|  Paco| 66|  90.1|  false|1905-12-03 00:00:00|  true|\n",
      "|Manolo| 68|  75.3|   true|2000-01-04 00:00:00|  true|\n",
      "+------+---+------+-------+-------------------+------+\n",
      "\n"
     ]
    }
   ],
   "source": [
    "data_frame.withColumn(\"Senior\", data_frame[\"Age\"] > 45).show()"
   ]
  },
  {
   "cell_type": "markdown",
   "metadata": {},
   "source": [
    "Para modificar el título de una columna:"
   ]
  },
  {
   "cell_type": "code",
   "execution_count": 21,
   "metadata": {},
   "outputs": [
    {
     "name": "stdout",
     "output_type": "stream",
     "text": [
      "+------+---+------+-----+-------------------+\n",
      "|  Name|Age|Weight|Owner|          BirthDate|\n",
      "+------+---+------+-----+-------------------+\n",
      "|  Luis| 23|  84.5| true|2019-03-01 00:00:00|\n",
      "|  Lola| 42|  70.2|false|2000-10-01 00:00:00|\n",
      "|  Paco| 66|  90.1|false|1905-12-03 00:00:00|\n",
      "|Manolo| 68|  75.3| true|2000-01-04 00:00:00|\n",
      "+------+---+------+-----+-------------------+\n",
      "\n"
     ]
    }
   ],
   "source": [
    "data_frame.withColumnRenamed(\"HasACar\", \"Owner\") \\\n",
    "        .show()"
   ]
  },
  {
   "cell_type": "markdown",
   "metadata": {},
   "source": [
    "Si se quiere eliminar la columna llamada \"BirthDate\":"
   ]
  },
  {
   "cell_type": "code",
   "execution_count": 22,
   "metadata": {},
   "outputs": [
    {
     "name": "stdout",
     "output_type": "stream",
     "text": [
      "+------+---+------+-------+\n",
      "|  Name|Age|Weight|HasACar|\n",
      "+------+---+------+-------+\n",
      "|  Luis| 23|  84.5|   true|\n",
      "|  Lola| 42|  70.2|  false|\n",
      "|  Paco| 66|  90.1|  false|\n",
      "|Manolo| 68|  75.3|   true|\n",
      "+------+---+------+-------+\n",
      "\n"
     ]
    }
   ],
   "source": [
    "data_frame.drop(\"BirthDate\") \\\n",
    "        .show()"
   ]
  },
  {
   "cell_type": "markdown",
   "metadata": {},
   "source": [
    "Si se quiere ordenar una columna:"
   ]
  },
  {
   "cell_type": "code",
   "execution_count": 24,
   "metadata": {},
   "outputs": [
    {
     "name": "stdout",
     "output_type": "stream",
     "text": [
      "+------+---+------+-------+-------------------+\n",
      "|  Name|Age|Weight|HasACar|          BirthDate|\n",
      "+------+---+------+-------+-------------------+\n",
      "|Manolo| 68|  75.3|   true|2000-01-04 00:00:00|\n",
      "|  Paco| 66|  90.1|  false|1905-12-03 00:00:00|\n",
      "|  Lola| 42|  70.2|  false|2000-10-01 00:00:00|\n",
      "|  Luis| 23|  84.5|   true|2019-03-01 00:00:00|\n",
      "+------+---+------+-------+-------------------+\n",
      "\n"
     ]
    }
   ],
   "source": [
    "data_frame.sort(data_frame.Age.desc()).show()"
   ]
  },
  {
   "cell_type": "code",
   "execution_count": 25,
   "metadata": {},
   "outputs": [
    {
     "name": "stdout",
     "output_type": "stream",
     "text": [
      "+------+---+------+-------+-------------------+\n",
      "|  Name|Age|Weight|HasACar|          BirthDate|\n",
      "+------+---+------+-------+-------------------+\n",
      "|Manolo| 68|  75.3|   true|2000-01-04 00:00:00|\n",
      "|  Paco| 66|  90.1|  false|1905-12-03 00:00:00|\n",
      "|  Lola| 42|  70.2|  false|2000-10-01 00:00:00|\n",
      "|  Luis| 23|  84.5|   true|2019-03-01 00:00:00|\n",
      "+------+---+------+-------+-------------------+\n",
      "\n"
     ]
    }
   ],
   "source": [
    "data_frame.sort(\"Age\", ascending=False).show()"
   ]
  },
  {
   "cell_type": "markdown",
   "metadata": {},
   "source": [
    "Para ordenar la edad de forma descendente y el peso de forma ascendente:"
   ]
  },
  {
   "cell_type": "code",
   "execution_count": 27,
   "metadata": {},
   "outputs": [
    {
     "name": "stdout",
     "output_type": "stream",
     "text": [
      "+------+---+------+-------+-------------------+\n",
      "|  Name|Age|Weight|HasACar|          BirthDate|\n",
      "+------+---+------+-------+-------------------+\n",
      "|Manolo| 68|  75.3|   true|2000-01-04 00:00:00|\n",
      "|  Paco| 66|  90.1|  false|1905-12-03 00:00:00|\n",
      "|  Lola| 42|  70.2|  false|2000-10-01 00:00:00|\n",
      "|  Luis| 23|  84.5|   true|2019-03-01 00:00:00|\n",
      "+------+---+------+-------+-------------------+\n",
      "\n"
     ]
    }
   ],
   "source": [
    "data_frame.orderBy([\"Age\", \"Weight\"], ascending=[0, 1]).show()"
   ]
  },
  {
   "cell_type": "markdown",
   "metadata": {},
   "source": [
    "\n",
    "\n",
    "\n",
    "\n",
    "\n",
    "Si se desea obtener un RDD a partir de una data frame:"
   ]
  },
  {
   "cell_type": "code",
   "execution_count": 26,
   "metadata": {},
   "outputs": [
    {
     "name": "stdout",
     "output_type": "stream",
     "text": [
      "Row(Name='Luis', Age=23, Weight=84.5, HasACar=True, BirthDate=datetime.datetime(2019, 3, 1, 0, 0))\n",
      "Row(Name='Lola', Age=42, Weight=70.2, HasACar=False, BirthDate=datetime.datetime(2000, 10, 1, 0, 0))\n",
      "Row(Name='Paco', Age=66, Weight=90.1, HasACar=False, BirthDate=datetime.datetime(1905, 12, 3, 0, 0))\n",
      "Row(Name='Manolo', Age=68, Weight=75.3, HasACar=True, BirthDate=datetime.datetime(2000, 1, 4, 0, 0))\n"
     ]
    }
   ],
   "source": [
    "rdd_from_dataframe = data_frame \\\n",
    "        .rdd \\\n",
    "        .persist()\n",
    "\n",
    "for i in rdd_from_dataframe.collect():\n",
    "    print(i)"
   ]
  },
  {
   "cell_type": "markdown",
   "metadata": {},
   "source": [
    "## Comandos para operar en un data frame"
   ]
  },
  {
   "cell_type": "markdown",
   "metadata": {},
   "source": [
    "Para sumar todos los pesos (desde el RDD anteriormente creado):"
   ]
  },
  {
   "cell_type": "code",
   "execution_count": 28,
   "metadata": {},
   "outputs": [
    {
     "name": "stdout",
     "output_type": "stream",
     "text": [
      "Sum of weights (RDDs): 320.09999999999997\n"
     ]
    }
   ],
   "source": [
    "sum_of_weights = rdd_from_dataframe \\\n",
    "        .map(lambda row: row[2]) \\\n",
    "        .reduce(lambda x, y: x + y)  # sum()\n",
    "print(\"Sum of weights (RDDs): \" + str(sum_of_weights))"
   ]
  },
  {
   "cell_type": "markdown",
   "metadata": {},
   "source": [
    "Para sumar todos los pesos pero a partir del data frame (dos formas distintas):"
   ]
  },
  {
   "cell_type": "code",
   "execution_count": 29,
   "metadata": {},
   "outputs": [
    {
     "name": "stdout",
     "output_type": "stream",
     "text": [
      "[Row(sum(Weight)=320.09999999999997)]\n",
      "Sum of weights (dataframe): 320.09999999999997\n"
     ]
    }
   ],
   "source": [
    "weights = data_frame \\\n",
    "        .select(\"Weight\") \\\n",
    "        .groupBy() \\\n",
    "        .sum() \\\n",
    "        .collect()\n",
    "\n",
    "print(weights)\n",
    "print(\"Sum of weights (dataframe): \" + str(weights[0][0]))"
   ]
  },
  {
   "cell_type": "markdown",
   "metadata": {},
   "source": [
    "Para el cálculo de la media de la edad(RDD):"
   ]
  },
  {
   "cell_type": "code",
   "execution_count": 31,
   "metadata": {},
   "outputs": [
    {
     "name": "stdout",
     "output_type": "stream",
     "text": [
      "Mean age (RDDs): 49.75\n"
     ]
    }
   ],
   "source": [
    "total_age = rdd_from_dataframe \\\n",
    "        .map(lambda row: row[1]) \\\n",
    "        .reduce(lambda x, y: x + y)\n",
    "\n",
    "mean_age = total_age / rdd_from_dataframe.count()\n",
    "\n",
    "print(\"Mean age (RDDs): \" + str(mean_age))"
   ]
  },
  {
   "cell_type": "markdown",
   "metadata": {},
   "source": [
    "Para el cálculo de la media de la edad (data frame) de dos formas distintas:"
   ]
  },
  {
   "cell_type": "code",
   "execution_count": 32,
   "metadata": {},
   "outputs": [
    {
     "name": "stdout",
     "output_type": "stream",
     "text": [
      "+-----------------+\n",
      "|          Average|\n",
      "+-----------------+\n",
      "|80.02499999999999|\n",
      "+-----------------+\n",
      "\n",
      "+-----------------+\n",
      "|      avg(Weight)|\n",
      "+-----------------+\n",
      "|80.02499999999999|\n",
      "+-----------------+\n",
      "\n"
     ]
    }
   ],
   "source": [
    "data_frame.select(functions.avg(data_frame[\"Weight\"])) \\\n",
    "        .withColumnRenamed(\"avg(Weight)\", \"Average\") \\\n",
    "        .show()\n",
    "\n",
    "data_frame.agg({\"Weight\": \"avg\"}).show()"
   ]
  },
  {
   "cell_type": "markdown",
   "metadata": {},
   "source": [
    "## Exportar a formato JSON o CSV los resultados obtenidos"
   ]
  },
  {
   "cell_type": "code",
   "execution_count": null,
   "metadata": {},
   "outputs": [],
   "source": [
    "# Escribir a JSON\n",
    "    data_frame\\\n",
    "        .write\\\n",
    "        .save(\"output.json\", format=\"json\")"
   ]
  },
  {
   "cell_type": "code",
   "execution_count": null,
   "metadata": {},
   "outputs": [],
   "source": [
    "# Escribir a CSV\n",
    "    data_frame\\\n",
    "        .write\\\n",
    "        .format(\"csv\")\\\n",
    "        .save(\"output.csv\")"
   ]
  }
 ],
 "metadata": {
  "kernelspec": {
   "display_name": "Python 3",
   "language": "python",
   "name": "python3"
  },
  "language_info": {
   "codemirror_mode": {
    "name": "ipython",
    "version": 3
   },
   "file_extension": ".py",
   "mimetype": "text/x-python",
   "name": "python",
   "nbconvert_exporter": "python",
   "pygments_lexer": "ipython3",
   "version": "3.7.0"
  }
 },
 "nbformat": 4,
 "nbformat_minor": 2
}
